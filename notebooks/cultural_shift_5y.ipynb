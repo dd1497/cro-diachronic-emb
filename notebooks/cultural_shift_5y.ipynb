{
 "cells": [
  {
   "cell_type": "code",
   "execution_count": 2,
   "id": "05151b64",
   "metadata": {},
   "outputs": [
    {
     "name": "stdout",
     "output_type": "stream",
     "text": [
      "/home/abaric/phd/retriever-diachronic-emb\n"
     ]
    }
   ],
   "source": [
    "%cd .."
   ]
  },
  {
   "cell_type": "code",
   "execution_count": 3,
   "id": "27ebb55e",
   "metadata": {},
   "outputs": [],
   "source": [
    "%matplotlib inline\n",
    "import numpy as np\n",
    "from matplotlib import pyplot as plt\n",
    "from tqdm import tqdm\n",
    "\n",
    "from gensim.models import Word2Vec\n",
    "\n",
    "def intersection_align_gensim(m1, m2):\n",
    "    common = list(set(m1.wv.key_to_index).intersection(set(m2.wv.key_to_index)))\n",
    "    common.sort(key=lambda w: m1.wv.get_vecattr(w, \"count\") + m2.wv.get_vecattr(w, \"count\"), reverse=True)\n",
    "\n",
    "    def align_model(model):\n",
    "        vectors = np.array([model.wv[w] for w in common])\n",
    "        model.wv.vectors = vectors\n",
    "        model.wv.key_to_index = {w: i for i, w in enumerate(common)}\n",
    "        model.wv.index_to_key = common\n",
    "        return model\n",
    "\n",
    "    return align_model(m1), align_model(m2)\n",
    "\n",
    "def smart_procrustes_align_gensim(base, other):\n",
    "    base, other = intersection_align_gensim(base, other)\n",
    "    m = other.wv.vectors.T @ base.wv.vectors\n",
    "    u, _, v = np.linalg.svd(m)\n",
    "    ortho = u @ v\n",
    "    other.wv.vectors = other.wv.vectors @ ortho\n",
    "    return other\n",
    "\n",
    "def cosine_distance(a, b):\n",
    "    return (1 - np.dot(a, b) / (np.linalg.norm(a) * np.linalg.norm(b))) / 2"
   ]
  },
  {
   "cell_type": "code",
   "execution_count": null,
   "id": "7fc4d5f6",
   "metadata": {},
   "outputs": [],
   "source": [
    "# Load the model (replace X with 1, 2, or 3 as needed)\n",
    "wave_1 = Word2Vec.load('../5ysplits_models/diachronic_wave_1_processed_model.bin')\n",
    "wave_2 = Word2Vec.load('../5ysplits_models/diachronic_wave_2_processed_model.bin')\n",
    "wave_3 = Word2Vec.load('../5ysplits_models/diachronic_wave_3_processed_model.bin')\n",
    "wave_4 = Word2Vec.load('../5ysplits_models/diachronic_wave_4_processed_model.bin')\n",
    "wave_5 = Word2Vec.load('../5ysplits_models/diachronic_wave_5_processed_model.bin')"
   ]
  },
  {
   "cell_type": "code",
   "execution_count": null,
   "id": "3e1f9119",
   "metadata": {},
   "outputs": [],
   "source": [
    "import json\n",
    "\n",
    "word_counts_wave_1 = json.load(\n",
    "    open(\n",
    "        \"../5ysplits_models/diachronic_wave_1_processed_word_counts.json\"\n",
    "    )\n",
    ")\n",
    "word_counts_wave_2 = json.load(\n",
    "    open(\n",
    "        \"../5ysplits_models/diachronic_wave_2_processed_word_counts.json\"\n",
    "    )\n",
    ")\n",
    "word_counts_wave_3 = json.load(\n",
    "    open(\n",
    "        \"../5ysplits_models/diachronic_wave_3_processed_word_counts.json\"\n",
    "    )\n",
    ")\n",
    "word_counts_wave_4 = json.load(\n",
    "    open(\n",
    "        \"../5ysplits_models/diachronic_wave_4_processed_word_counts.json\"\n",
    "    )\n",
    ")\n",
    "word_counts_wave_5 = json.load(\n",
    "    open(\n",
    "        \"../5ysplits_models/diachronic_wave_5_processed_word_counts.json\"\n",
    "    )\n",
    ")\n",
    "\n",
    "word_counts_separate = [\n",
    "    word_counts_wave_1,\n",
    "    word_counts_wave_2,\n",
    "    word_counts_wave_3,\n",
    "    word_counts_wave_4,\n",
    "    word_counts_wave_5,\n",
    "]"
   ]
  },
  {
   "cell_type": "code",
   "execution_count": null,
   "id": "0b45edf4",
   "metadata": {},
   "outputs": [],
   "source": [
    "waves = {0: wave_1, 1: wave_2, 2: wave_3, 3: wave_4, 4: wave_5}"
   ]
  },
  {
   "cell_type": "code",
   "execution_count": null,
   "id": "3d65ccae",
   "metadata": {},
   "outputs": [],
   "source": [
    "models = [waves[key] for key in sorted(waves.keys())]\n",
    "\n",
    "periods = sorted(waves.keys())\n",
    "\n",
    "for i in reversed(range(1, len(models))):\n",
    "    models[i - 1] = smart_procrustes_align_gensim(models[i], models[i - 1])"
   ]
  }
 ],
 "metadata": {
  "kernelspec": {
   "display_name": "diachronic",
   "language": "python",
   "name": "python3"
  },
  "language_info": {
   "codemirror_mode": {
    "name": "ipython",
    "version": 3
   },
   "file_extension": ".py",
   "mimetype": "text/x-python",
   "name": "python",
   "nbconvert_exporter": "python",
   "pygments_lexer": "ipython3",
   "version": "3.13.2"
  }
 },
 "nbformat": 4,
 "nbformat_minor": 5
}
