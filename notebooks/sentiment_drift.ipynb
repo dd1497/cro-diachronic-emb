{
 "cells": [
  {
   "cell_type": "markdown",
   "id": "b67f5a3caa7e1c57",
   "metadata": {},
   "source": [
    "## Load vectors for time periods"
   ]
  },
  {
   "cell_type": "code",
   "execution_count": 1,
   "id": "c7733705b1886135",
   "metadata": {
    "ExecuteTime": {
     "end_time": "2025-05-03T13:52:17.932725699Z",
     "start_time": "2025-05-02T13:53:59.038020Z"
    },
    "trusted": false
   },
   "outputs": [],
   "source": [
    "import numpy as np\n",
    "from gensim.models import KeyedVectors, Word2Vec\n",
    "from copy import deepcopy"
   ]
  },
  {
   "cell_type": "code",
   "execution_count": null,
   "id": "366212cc232157b6",
   "metadata": {
    "ExecuteTime": {
     "end_time": "2025-05-03T13:52:17.935552615Z",
     "start_time": "2025-05-02T13:53:59.919911Z"
    },
    "trusted": false
   },
   "outputs": [],
   "source": [
    "vectors_root = '../5ysplits_models'"
   ]
  },
  {
   "cell_type": "code",
   "execution_count": 3,
   "id": "4d5087a7aac9dd03",
   "metadata": {
    "ExecuteTime": {
     "end_time": "2025-05-03T13:52:17.960919128Z",
     "start_time": "2025-05-02T13:54:00.012495Z"
    },
    "trusted": false
   },
   "outputs": [],
   "source": [
    "def load_vectors(vec_path):\n",
    "    w2v = Word2Vec.load(vec_path)\n",
    "    vectors = w2v.wv\n",
    "    del w2v\n",
    "    return vectors"
   ]
  },
  {
   "cell_type": "code",
   "execution_count": 12,
   "id": "84a8a7df8cf479ee",
   "metadata": {
    "ExecuteTime": {
     "end_time": "2025-05-03T13:52:17.961811483Z",
     "start_time": "2025-05-02T13:35:47.845416Z"
    },
    "trusted": false
   },
   "outputs": [],
   "source": [
    "base, target = 5, 4"
   ]
  },
  {
   "cell_type": "code",
   "execution_count": null,
   "id": "94d7fb3a827f1e0e",
   "metadata": {
    "ExecuteTime": {
     "end_time": "2025-05-03T13:52:17.962083886Z",
     "start_time": "2025-05-02T13:35:49.117150Z"
    },
    "trusted": false
   },
   "outputs": [],
   "source": [
    "base_vecs = load_vectors(f\"{vectors_root}/diachronic_wave_{base}_processed_model.bin\")\n",
    "target_vecs = load_vectors(f\"{vectors_root}/diachronic_wave_{target}_processed_model.bin\")"
   ]
  },
  {
   "cell_type": "code",
   "execution_count": 4,
   "id": "d6cd3576d6390b1d",
   "metadata": {
    "ExecuteTime": {
     "end_time": "2025-05-03T13:52:17.962299077Z",
     "start_time": "2025-05-02T13:54:02.094554Z"
    },
    "trusted": false
   },
   "outputs": [],
   "source": [
    "w1 = load_vectors(f\"{vectors_root}/diachronic_wave_1_processed_model.bin\")\n",
    "w2 = load_vectors(f\"{vectors_root}/diachronic_wave_2_processed_model.bin\")\n",
    "w3 = load_vectors(f\"{vectors_root}/diachronic_wave_3_processed_model.bin\")\n",
    "w4 = load_vectors(f\"{vectors_root}/diachronic_wave_4_processed_model.bin\")\n",
    "w5 = load_vectors(f\"{vectors_root}/diachronic_wave_5_processed_model.bin\")"
   ]
  },
  {
   "cell_type": "code",
   "execution_count": 5,
   "id": "dcc5190da4eabf21",
   "metadata": {
    "ExecuteTime": {
     "end_time": "2025-05-03T13:52:17.970165975Z",
     "start_time": "2025-05-02T14:00:48.194785Z"
    },
    "trusted": false
   },
   "outputs": [],
   "source": [
    "waves = [w1, w2, w3, w4, w5]"
   ]
  },
  {
   "cell_type": "code",
   "execution_count": 6,
   "id": "fe1542e186a88c76",
   "metadata": {
    "ExecuteTime": {
     "end_time": "2025-05-03T13:52:17.971491102Z",
     "start_time": "2025-05-02T14:00:48.310898Z"
    },
    "trusted": false
   },
   "outputs": [
    {
     "data": {
      "text/plain": [
       "(2583363, 300)"
      ]
     },
     "execution_count": 6,
     "metadata": {},
     "output_type": "execute_result"
    }
   ],
   "source": [
    "w3.vectors.shape"
   ]
  },
  {
   "cell_type": "markdown",
   "id": "c9679ec85f647c69",
   "metadata": {},
   "source": [
    "## Load Pauza"
   ]
  },
  {
   "cell_type": "code",
   "execution_count": 11,
   "id": "bd646ad1f4e1275f",
   "metadata": {
    "ExecuteTime": {
     "end_time": "2025-05-03T13:52:17.972937311Z",
     "start_time": "2025-05-02T14:02:13.955071Z"
    },
    "trusted": false
   },
   "outputs": [],
   "source": [
    "import json\n",
    "from dataclasses import dataclass"
   ]
  },
  {
   "cell_type": "code",
   "execution_count": null,
   "id": "2f49155c8ad777fb",
   "metadata": {
    "trusted": false
   },
   "outputs": [],
   "source": [
    "pauza_path = '../data/pauza_clean_tokens.jsonl'"
   ]
  },
  {
   "cell_type": "code",
   "execution_count": null,
   "id": "f8cc7e45e2c647d3",
   "metadata": {
    "trusted": false
   },
   "outputs": [],
   "source": [
    "@dataclass\n",
    "class PauzaInstance:\n",
    "    text: str\n",
    "    rating: str\n",
    "    docid: str\n",
    "\n",
    "    def aggregate_embeddings(self, model):\n",
    "        aggregate = []\n",
    "        for wpos_tuple in self.text:\n",
    "            wp = '_'.join(wpos_tuple)\n",
    "            try:\n",
    "                vector = model[wp]\n",
    "                aggregate.append(vector)\n",
    "            except Exception as e:\n",
    "                # print(e)\n",
    "                # Skip since we're averaging anyway. Maybe add random uniform?\n",
    "                pass\n",
    "\n",
    "        if len(aggregate) == 0:\n",
    "            print(\"Empty vectors\")\n",
    "            print(self.text)\n",
    "            return None\n",
    "\n",
    "        stacked_vectors = np.array(aggregate)\n",
    "        mu = stacked_vectors.mean(0)\n",
    "\n",
    "        return mu # Average across axis 0"
   ]
  },
  {
   "cell_type": "code",
   "execution_count": null,
   "id": "d12adebf50a7549a",
   "metadata": {
    "trusted": false
   },
   "outputs": [],
   "source": [
    "pauza = []\n",
    "with open(pauza_path, 'r') as infile:\n",
    "    for line in infile:\n",
    "        instance = json.loads(line)\n",
    "        pauza.append(PauzaInstance(**instance))"
   ]
  },
  {
   "cell_type": "markdown",
   "id": "7f6c9c9c7d14fab7",
   "metadata": {},
   "source": [
    "## Load Stone"
   ]
  },
  {
   "cell_type": "code",
   "execution_count": 12,
   "id": "c743de9e8911705f",
   "metadata": {
    "ExecuteTime": {
     "end_time": "2025-05-03T13:52:17.975405877Z",
     "start_time": "2025-05-02T14:02:17.299489Z"
    },
    "trusted": false
   },
   "outputs": [],
   "source": [
    "stone_path = '../data/stone/stone_clean_tokens.jsonl'"
   ]
  },
  {
   "cell_type": "code",
   "execution_count": 14,
   "id": "22dc1ca8926c60d3",
   "metadata": {
    "ExecuteTime": {
     "end_time": "2025-05-03T13:52:17.976799735Z",
     "start_time": "2025-05-02T14:02:23.693755Z"
    },
    "trusted": false
   },
   "outputs": [],
   "source": [
    "@dataclass\n",
    "class StoneInstance:\n",
    "    text: str\n",
    "    label: str\n",
    "    docid: str\n",
    "\n",
    "    def aggregate_embeddings(self, model):\n",
    "        aggregate = []\n",
    "        for wpos_tuple in self.text:\n",
    "            wp = '_'.join(wpos_tuple)\n",
    "            try:\n",
    "                vector = model[wp]\n",
    "                aggregate.append(vector)\n",
    "            except Exception as e:\n",
    "                # print(e)\n",
    "                # Skip since we're averaging anyway. Maybe add random uniform?\n",
    "                pass\n",
    "\n",
    "        if len(aggregate) == 0:\n",
    "            print(\"Empty vectors\")\n",
    "            print(self.text)\n",
    "            return None\n",
    "\n",
    "        stacked_vectors = np.array(aggregate)\n",
    "        mu = stacked_vectors.mean(0)\n",
    "\n",
    "        return mu # Average across axis 0"
   ]
  },
  {
   "cell_type": "code",
   "execution_count": 15,
   "id": "2fc3e2302c2ee93f",
   "metadata": {
    "ExecuteTime": {
     "end_time": "2025-05-03T13:52:17.978084238Z",
     "start_time": "2025-05-02T14:02:24.466546Z"
    },
    "trusted": false
   },
   "outputs": [],
   "source": [
    "stone = []\n",
    "with open(stone_path, 'r') as infile:\n",
    "    for line in infile:\n",
    "        instance = json.loads(line)\n",
    "        stone.append(StoneInstance(**instance))"
   ]
  },
  {
   "cell_type": "markdown",
   "id": "2f1f516232da9dc6",
   "metadata": {},
   "source": [
    "## Alignment"
   ]
  },
  {
   "cell_type": "code",
   "execution_count": 34,
   "id": "2823019542f10670",
   "metadata": {
    "ExecuteTime": {
     "end_time": "2025-05-03T13:52:17.979238740Z",
     "start_time": "2025-05-02T14:04:44.535844Z"
    },
    "trusted": false
   },
   "outputs": [],
   "source": [
    "def smart_procrustes_align_gensim(base_embed, other_embed, words=None):\n",
    "    \"\"\"\n",
    "    Original script: https://gist.github.com/quadrismegistus/09a93e219a6ffc4f216fb85235535faf\n",
    "    Procrustes align two gensim word2vec models (to allow for comparison between same word across models).\n",
    "    Code ported from HistWords <https://github.com/williamleif/histwords> by William Hamilton <wleif@stanford.edu>.\n",
    "\n",
    "    First, intersect the vocabularies (see `intersection_align_gensim` documentation).\n",
    "    Then do the alignment on the other_embed model.\n",
    "    Replace the other_embed model's syn0 and syn0norm numpy matrices with the aligned version.\n",
    "    Return other_embed.\n",
    "    If `words` is set, intersect the two models' vocabulary with the vocabulary in words (see `intersection_align_gensim` documentation).\n",
    "    \"\"\"\n",
    "\n",
    "    # patch by Richard So [https://twitter.com/richardjeanso) (thanks!) to update this code for new version of gensim\n",
    "    # base_embed.init_sims(replace=True)\n",
    "    # other_embed.init_sims(replace=True)\n",
    "\n",
    "    # make sure vocabulary and indices are aligned\n",
    "    in_base_embed, in_other_embed = intersection_align_gensim(base_embed, other_embed, words=words)\n",
    "\n",
    "    # get the (normalized) embedding matrices\n",
    "    base_vecs = in_base_embed.get_normed_vectors()\n",
    "    other_vecs = in_other_embed.get_normed_vectors()\n",
    "\n",
    "    # just a matrix dot product with numpy\n",
    "    m = other_vecs.T.dot(base_vecs)\n",
    "    # SVD method from numpy\n",
    "    u, _, v = np.linalg.svd(m)\n",
    "    # another matrix operation\n",
    "    ortho = u.dot(v)\n",
    "    # Replace original array with modified one, i.e. multiplying the embedding matrix by \"ortho\"\n",
    "    other_embed.vectors = (other_embed.vectors).dot(ortho)\n",
    "\n",
    "    return other_embed\n",
    "\n",
    "def intersection_align_gensim(m1, m2, words=None):\n",
    "    \"\"\"\n",
    "    Intersect two gensim word2vec models, m1 and m2.\n",
    "    Only the shared vocabulary between them is kept.\n",
    "    If 'words' is set (as list or set), then the vocabulary is intersected with this list as well.\n",
    "    Indices are re-organized from 0..N in order of descending frequency (=sum of counts from both m1 and m2).\n",
    "    These indices correspond to the new syn0 and syn0norm objects in both gensim models:\n",
    "        -- so that Row 0 of m1.syn0 will be for the same word as Row 0 of m2.syn0\n",
    "        -- you can find the index of any word on the .index2word list: model.index2word.index(word) => 2\n",
    "    The .vocab dictionary is also updated for each model, preserving the count but updating the index.\n",
    "    \"\"\"\n",
    "\n",
    "    # Get the vocab for each model\n",
    "    vocab_m1 = set(m1.index_to_key)\n",
    "    vocab_m2 = set(m2.index_to_key)\n",
    "\n",
    "    # Find the common vocabulary\n",
    "    common_vocab = vocab_m1 & vocab_m2\n",
    "    if words: common_vocab &= set(words)\n",
    "\n",
    "    # If no alignment necessary because vocab is identical...\n",
    "    if not vocab_m1 - common_vocab and not vocab_m2 - common_vocab:\n",
    "        return (m1,m2)\n",
    "\n",
    "    # Otherwise sort by frequency (summed for both)\n",
    "    common_vocab = list(common_vocab)\n",
    "    common_vocab.sort(key=lambda w: m1.get_vecattr(w, \"count\") + m2.get_vecattr(w, \"count\"), reverse=True)\n",
    "    # print(len(common_vocab))\n",
    "\n",
    "    # Then for each model...\n",
    "    for m in [m1, m2]:\n",
    "        # Replace old syn0norm array with new one (with common vocab)\n",
    "        indices = [m.key_to_index[w] for w in common_vocab]\n",
    "        old_arr = m.vectors\n",
    "        new_arr = np.array([old_arr[index] for index in indices])\n",
    "        m.vectors = new_arr\n",
    "\n",
    "        # Replace old vocab dictionary with new one (with common vocab)\n",
    "        # and old index2word with new one\n",
    "        new_key_to_index = {}\n",
    "        new_index_to_key = []\n",
    "        for new_index, key in enumerate(common_vocab):\n",
    "            new_key_to_index[key] = new_index\n",
    "            new_index_to_key.append(key)\n",
    "        m.key_to_index = new_key_to_index\n",
    "        m.index_to_key = new_index_to_key\n",
    "\n",
    "        #print(len(m.key_to_index), len(m.vectors))\n",
    "\n",
    "    return (m1,m2)"
   ]
  },
  {
   "cell_type": "code",
   "execution_count": 35,
   "id": "c6b21fe7db72522e",
   "metadata": {
    "ExecuteTime": {
     "end_time": "2025-05-03T13:52:17.980340444Z",
     "start_time": "2025-05-02T14:05:22.008826Z"
    },
    "trusted": false
   },
   "outputs": [
    {
     "ename": "NameError",
     "evalue": "name 'base_vecs' is not defined",
     "output_type": "error",
     "traceback": [
      "\u001b[31m---------------------------------------------------------------------------\u001b[39m",
      "\u001b[31mNameError\u001b[39m                                 Traceback (most recent call last)",
      "\u001b[36mCell\u001b[39m\u001b[36m \u001b[39m\u001b[32mIn[35]\u001b[39m\u001b[32m, line 1\u001b[39m\n\u001b[32m----> \u001b[39m\u001b[32m1\u001b[39m target_align_base = smart_procrustes_align_gensim(deepcopy(\u001b[43mbase_vecs\u001b[49m), target_vecs)\n",
      "\u001b[31mNameError\u001b[39m: name 'base_vecs' is not defined"
     ]
    }
   ],
   "source": [
    "target_align_base = smart_procrustes_align_gensim(deepcopy(base_vecs), target_vecs)"
   ]
  },
  {
   "cell_type": "markdown",
   "id": "721c116f6924ee04",
   "metadata": {},
   "source": [
    "## Create instances and train LinReg"
   ]
  },
  {
   "cell_type": "code",
   "execution_count": 36,
   "id": "919bc4311ab495e3",
   "metadata": {
    "ExecuteTime": {
     "end_time": "2025-05-03T13:52:17.981501329Z",
     "start_time": "2025-05-02T14:05:24.224871Z"
    },
    "trusted": false
   },
   "outputs": [],
   "source": [
    "from sklearn.linear_model import LinearRegression\n",
    "from sklearn.model_selection import train_test_split\n",
    "from sklearn.metrics import mean_squared_error"
   ]
  },
  {
   "cell_type": "code",
   "execution_count": null,
   "id": "b16220bb57be5eee",
   "metadata": {
    "trusted": false
   },
   "outputs": [],
   "source": [
    "clean_pauza = [instance for instance in pauza if instance.aggregate_embeddings(w5) is not None]"
   ]
  },
  {
   "cell_type": "code",
   "execution_count": 15,
   "id": "e20af378bbe11bb0",
   "metadata": {
    "ExecuteTime": {
     "end_time": "2025-05-03T13:52:17.982869377Z",
     "start_time": "2025-05-02T13:42:57.103588Z"
    },
    "trusted": false
   },
   "outputs": [],
   "source": [
    "def do_eval(regressor, X_test, y_test):\n",
    "    # Predict\n",
    "    y_pred = regressor.predict(X_test)\n",
    "\n",
    "    # Evaluate\n",
    "    mse = mean_squared_error(y_test, y_pred)\n",
    "    print(f\"Test Mean Squared Error: {mse:.4f}\")\n",
    "    print(f\"Test average score: {np.mean(y_pred):.2f}\")"
   ]
  },
  {
   "cell_type": "code",
   "execution_count": null,
   "id": "9634b4d87ac3eda3",
   "metadata": {
    "trusted": false
   },
   "outputs": [],
   "source": [
    "# Average word vectors\n",
    "X = clean_pauza\n",
    "y = np.array([float(instance.rating) for instance in clean_pauza])\n",
    "\n",
    "# Train/test split\n",
    "X_train_raw, X_test_raw, y_train, y_test = train_test_split(X, y, test_size=0.2, random_state=42)\n",
    "\n",
    "X_train_base = [instance.aggregate_embeddings(w5) for instance in X_train_raw]\n",
    "\n",
    "X_test_base = [instance.aggregate_embeddings(w5) for instance in X_test_raw]\n",
    "\n",
    "\n",
    "# Create and train the regressor\n",
    "regressor = LinearRegression()\n",
    "regressor.fit(X_train_base, y_train)\n",
    "\n",
    "# Predict\n",
    "do_eval(regressor, X_test_base, y_test)"
   ]
  },
  {
   "cell_type": "code",
   "execution_count": null,
   "id": "c811c5cec98520d8",
   "metadata": {
    "trusted": false
   },
   "outputs": [],
   "source": [
    "X_test_target = [instance.aggregate_embeddings(target_align_base) for instance in X_test_raw]\n",
    "print(np.allclose(X_test_base[0], X_test_target[0]))\n",
    "do_eval(regressor, X_test_target, y_test)"
   ]
  },
  {
   "cell_type": "markdown",
   "id": "2b6bce5f1482a5fc",
   "metadata": {},
   "source": [
    "## Train LogReg"
   ]
  },
  {
   "cell_type": "code",
   "execution_count": 18,
   "id": "b636b622b5b5e760",
   "metadata": {
    "ExecuteTime": {
     "end_time": "2025-05-03T13:52:17.984431517Z",
     "start_time": "2025-05-02T14:02:35.078760Z"
    },
    "trusted": false
   },
   "outputs": [],
   "source": [
    "from sklearn.linear_model import LogisticRegression\n",
    "from sklearn import svm\n",
    "from sklearn.metrics import accuracy_score, f1_score"
   ]
  },
  {
   "cell_type": "code",
   "execution_count": 26,
   "id": "e136d0ab55c7849e",
   "metadata": {
    "ExecuteTime": {
     "end_time": "2025-05-03T13:52:17.985518719Z",
     "start_time": "2025-05-02T14:03:02.901796Z"
    },
    "trusted": false
   },
   "outputs": [],
   "source": [
    "clean_stone = [instance for instance in stone if instance.aggregate_embeddings(w5) is not None]"
   ]
  },
  {
   "cell_type": "code",
   "execution_count": 27,
   "id": "8916edfafe879b98",
   "metadata": {
    "ExecuteTime": {
     "end_time": "2025-05-03T13:52:17.985933583Z",
     "start_time": "2025-05-02T14:03:03.564520Z"
    },
    "trusted": false
   },
   "outputs": [],
   "source": [
    "def aggregate_emb(X_train, X_test, model):\n",
    "    X_train_base = [instance.aggregate_embeddings(model) for instance in X_train]\n",
    "    X_test_base = [instance.aggregate_embeddings(model) for instance in X_test]\n",
    "\n",
    "    return X_train_base, X_test_base\n",
    "\n",
    "def eval_clf(clf, X_test, y_test):\n",
    "    # Predict\n",
    "    y_pred = clf.predict(X_test)\n",
    "\n",
    "    # Evaluate logreg\n",
    "    f1 = f1_score(y_test, y_pred, average='macro')\n",
    "    print(f\"Test F1 Score: {f1:.4f}\")\n",
    "\n",
    "    return y_pred\n",
    "\n",
    "def train_clf(X_train_raw, X_test_raw, y_train, y_test, base_vecs):\n",
    "    # Average word vectors\n",
    "    X_train_base = [instance.aggregate_embeddings(base_vecs) for instance in X_train_raw]\n",
    "    X_test_base = [instance.aggregate_embeddings(base_vecs) for instance in X_test_raw]\n",
    "\n",
    "    # Create and train the classifier\n",
    "    clf = LogisticRegression()\n",
    "    clf.fit(X_train_base, y_train)\n",
    "\n",
    "    # Predict\n",
    "    eval_clf(clf, X_test_base, y_test)\n",
    "\n",
    "    return clf"
   ]
  },
  {
   "cell_type": "code",
   "execution_count": 28,
   "id": "23df87f0eeda3a3a",
   "metadata": {
    "ExecuteTime": {
     "end_time": "2025-05-03T13:52:17.986994346Z",
     "start_time": "2025-05-02T14:03:04.148930Z"
    },
    "trusted": false
   },
   "outputs": [
    {
     "name": "stdout",
     "output_type": "stream",
     "text": []
    }
   ],
   "source": [
    "# Average word vectors\n",
    "X = clean_stone\n",
    "y = np.array([int(instance.label) for instance in clean_stone])\n",
    "\n",
    "# Train/test split\n",
    "X_train_raw, X_test_raw, y_train, y_test = train_test_split(X, y, test_size=0.2, random_state=42)\n",
    "\n",
    "# Train clf\n",
    "base_clf = train_clf(X_train_raw, X_test_raw, y_train, y_test, w5)"
   ]
  },
  {
   "cell_type": "code",
   "execution_count": null,
   "id": "57cff37694d6b7d8",
   "metadata": {},
   "outputs": [],
   "source": [
    "from tqdm import tqdm\n",
    "from sklearn.model_selection import KFold\n",
    "\n",
    "X = clean_stone\n",
    "y = np.array([int(instance.label) for instance in clean_stone])\n",
    "\n",
    "kf = KFold(n_splits=30, shuffle=True, random_state=42)\n",
    "\n",
    "clfs = []\n",
    "\n",
    "for i, wave in enumerate(waves):\n",
    "    print(f\"Wave {i + 1}\")\n",
    "    clf_fold = []\n",
    "\n",
    "    for train_index, test_index in kf.split(X):\n",
    "        X_train_raw, X_test_raw = [X[i] for i in train_index], [X[i] for i in test_index]\n",
    "        y_train, y_test = y[train_index], y[test_index]\n",
    "        clf = train_clf(X_train_raw, X_test_raw, y_train, y_test, wave)\n",
    "        clf_fold.append(clf)\n",
    "\n",
    "    clfs.append(clf_fold)\n"
   ]
  },
  {
   "cell_type": "code",
   "execution_count": null,
   "id": "c656673dea2626b6",
   "metadata": {},
   "outputs": [],
   "source": [
    "# Precompute alignments\n",
    "aligned_waves = {}\n",
    "for i in tqdm(range(len(waves))):\n",
    "    for j in range(len(waves)):\n",
    "        if i == j:\n",
    "            continue\n",
    "        aligned_waves[(i, j)] = smart_procrustes_align_gensim(deepcopy(waves[i]), deepcopy(waves[j]))\n"
   ]
  },
  {
   "cell_type": "code",
   "execution_count": null,
   "id": "60fe8ebbe8073807",
   "metadata": {},
   "outputs": [],
   "source": [
    "matrices = []\n",
    "for fold_idx in range(30):\n",
    "    matrix = []\n",
    "    for i, clf_list in enumerate(clfs):\n",
    "        diff = []\n",
    "        print(f\"Base model  - Wave {i + 1}, Fold {fold_idx + 1}\")\n",
    "        clf = clf_list[fold_idx]  # Get classifier for current fold\n",
    "        X_train_base, X_test_base = aggregate_emb(X_train_raw, X_test_raw, waves[i])\n",
    "        y_base = eval_clf(clf, X_test_base, y_test)\n",
    "\n",
    "        for j, wave in enumerate(waves):\n",
    "            if i == j:\n",
    "                diff.append(None)\n",
    "                continue\n",
    "\n",
    "            print(f\"Target emb. - Wave {j + 1}\")\n",
    "            X_train_target, X_test_target = aggregate_emb(X_train_raw, X_test_raw, aligned_waves[(i, j)])\n",
    "            y_target = eval_clf(clf, X_test_target, y_test)\n",
    "\n",
    "            diff.append(np.round(np.mean((y_target - y_base)), 2))\n",
    "\n",
    "        matrix.append(diff)\n",
    "    matrices.append(matrix)"
   ]
  },
  {
   "cell_type": "code",
   "execution_count": null,
   "id": "20ee3678e4e84ad1",
   "metadata": {},
   "outputs": [],
   "source": [
    "matrices_array = np.array(matrices, dtype=float)\n",
    "for i in range(matrices_array.shape[0]):\n",
    "    for j in range(matrices_array.shape[1]):\n",
    "        for k in range(matrices_array.shape[2]):\n",
    "            if matrices_array[i, j, k] is None:\n",
    "                matrices_array[i, j, k] = np.nan\n"
   ]
  },
  {
   "cell_type": "code",
   "execution_count": null,
   "id": "6d5d59f2b01815b4",
   "metadata": {},
   "outputs": [],
   "source": [
    "import scipy.stats as stats\n",
    "\n",
    "# Calculate mean across all folds\n",
    "np.nanmean(matrices_array, axis=0)\n",
    "mean_matrix = np.mean(matrices_array, axis=0)\n",
    "\n",
    "# Calculate p-values using one-sample t-test against mu=0\n",
    "p_values = np.zeros_like(mean_matrix)\n",
    "significance = np.full_like(mean_matrix, '', dtype=object)\n",
    "\n",
    "for i in range(mean_matrix.shape[0]):\n",
    "    for j in range(mean_matrix.shape[1]):\n",
    "        if i != j:  # Skip diagonal\n",
    "            t_stat, p_val = stats.ttest_1samp(matrices_array[:, i, j], 0)\n",
    "            p_values[i, j] = p_val\n",
    "\n",
    "            # Add significance stars\n",
    "            if p_val < 0.01:\n",
    "                significance[i, j] = '$^\\ddagger$'\n",
    "            elif p_val < 0.05:\n",
    "                significance[i, j] = '$^\\dagger$'\n",
    "            # elif p_val < 0.05:\n",
    "            #     significance[i, j] = '$\\dagger$'\n",
    "\n",
    "print(\"Mean values:\")\n",
    "print(mean_matrix)\n",
    "print(\"\\nSignificance levels:\")\n",
    "print(significance)\n"
   ]
  },
  {
   "cell_type": "code",
   "execution_count": 155,
   "id": "37121466a0a8a103",
   "metadata": {
    "ExecuteTime": {
     "end_time": "2025-05-03T15:16:11.492547Z",
     "start_time": "2025-05-03T15:16:11.308318Z"
    }
   },
   "outputs": [
    {
     "data": {
      "image/png": "[encoded data removed]",
      "text/plain": [
       "<Figure size 600x500 with 1 Axes>"
      ]
     },
     "metadata": {},
     "output_type": "display_data"
    }
   ],
   "source": [
    "import seaborn as sns\n",
    "import matplotlib.pyplot as plt\n",
    "import numpy as np\n",
    "from matplotlib.colors import LinearSegmentedColormap\n",
    "\n",
    "# Original matrix with None values\n",
    "data = matrix\n",
    "\n",
    "# Convert to NumPy array and mask None values\n",
    "array = np.array(data, dtype=np.float32)\n",
    "mask = np.isnan(array)\n",
    "array = np.where(np.isnan(array), 0, array)\n",
    "\n",
    "# Create custom red-to-green colormap\n",
    "red_green_cmap = LinearSegmentedColormap.from_list(\"red_white_green\", [\"red\", \"white\", \"green\"])\n",
    "\n",
    "# Plotting with Seaborn\n",
    "plt.figure(figsize=(6, 5))\n",
    "sns.heatmap(array,\n",
    "            cmap=red_green_cmap,\n",
    "            vmin=-2, vmax=2,\n",
    "            annot=np.where(~mask, array.astype(str) + significance, ''),\n",
    "            fmt='',\n",
    "            linewidths=0.5,\n",
    "            linecolor='black',\n",
    "            annot_kws={'size': 16})\n",
    "\n",
    "plt.xlabel('Target (substituted)', fontsize=18)\n",
    "plt.ylabel(\"Base (clf trained on)\", fontsize=18)\n",
    "plt.xticks(fontsize=16)\n",
    "plt.yticks(fontsize=16)\n",
    "\n",
    "# Add grid lines\n",
    "plt.axvline(x=4.99, color='black', linewidth=0.5)\n",
    "plt.axhline(y=4.99, color='black', linewidth=0.5)\n",
    "\n",
    "plt.tight_layout()\n",
    "plt.show()\n"
   ]
  },
  {
   "cell_type": "markdown",
   "id": "d8766c33351c6bdd",
   "metadata": {},
   "source": [
    "## Visualize results"
   ]
  },
  {
   "cell_type": "code",
   "execution_count": null,
   "id": "93ae80b5d69d455",
   "metadata": {
    "trusted": false
   },
   "outputs": [],
   "source": [
    "def load_drift_results(path, splits=5):\n",
    "    a = np.zeros((splits, splits))\n",
    "    with open(path, 'r') as infile:\n",
    "        for idx, line in enumerate(infile):\n",
    "            if idx == 0: continue # header\n",
    "            parts = line.strip().split(\",\")\n",
    "            base, target = int(parts[3]) - 1 , int(parts[4]) - 1\n",
    "            # print(base, target)\n",
    "            aps_base, aps_target = float(parts[7]), float(parts[9])\n",
    "            a[base,target] = aps_target - aps_base # > 0 if sentiment increased\n",
    "    return a"
   ]
  },
  {
   "cell_type": "code",
   "execution_count": null,
   "id": "98b2e0e3050658ba",
   "metadata": {
    "trusted": false
   },
   "outputs": [],
   "source": [
    "data = load_drift_results('../output/semantic_drift_refilter.txt', splits=5)\n",
    "print(data)"
   ]
  },
  {
   "cell_type": "code",
   "execution_count": null,
   "id": "2aa70fe534ec4300",
   "metadata": {
    "trusted": false
   },
   "outputs": [],
   "source": [
    "type(data)"
   ]
  },
  {
   "cell_type": "code",
   "execution_count": null,
   "id": "a8642949d95e3011",
   "metadata": {
    "trusted": false
   },
   "outputs": [],
   "source": [
    "import numpy as np\n",
    "import matplotlib.pyplot as plt\n",
    "import matplotlib.colors as mcolors\n",
    "\n",
    "# Example data\n",
    "# data = np.random.uniform(-1, 1, (5, 5))\n",
    "\n",
    "# Create a custom colormap: light red to white to light green\n",
    "cmap = mcolors.LinearSegmentedColormap.from_list(\n",
    "    'red_white_green', ['#ffcccc', '#ffffff', '#ccffcc'], N=256\n",
    ")\n",
    "\n",
    "# Plot\n",
    "fig, ax = plt.subplots()\n",
    "cax = ax.matshow(data, cmap=cmap)\n",
    "\n",
    "# Write the numbers inside each square\n",
    "for (i, j), val in np.ndenumerate(data):\n",
    "    if i == j: continue\n",
    "    ax.text(j, i, f'{val:.2f}', va='center', ha='center', fontsize=10)\n",
    "\n",
    "# Hide axis ticks\n",
    "ax.set_xticks([])\n",
    "ax.set_yticks([])\n",
    "ax.set_xlabel('Target (substituted)')\n",
    "ax.set_ylabel('Base (clf trained on)')\n",
    "\n",
    "# Optionally add a colorbar\n",
    "fig.colorbar(cax)\n",
    "\n",
    "plt.show()"
   ]
  },
  {
   "cell_type": "code",
   "execution_count": 27,
   "id": "6c3f4ccff83a5c1d",
   "metadata": {
    "scrolled": false,
    "trusted": false
   },
   "outputs": [
    {
     "name": "stdout",
     "output_type": "stream",
     "text": []
    }
   ],
   "source": [
    "np.set_printoptions(precision=2)\n",
    "data_2y = load_drift_results('../output/semantic_drift_refilter_2y.txt', splits=12)\n",
    "print(data_2y)\n",
    "data_2y_clip = np.clip(data_2y, a_min=-4, a_max=4)"
   ]
  },
  {
   "cell_type": "code",
   "execution_count": 31,
   "id": "efe98527d8b5a28b",
   "metadata": {
    "trusted": false
   },
   "outputs": [
    {
     "data": {
      "image/png": "[encoded data removed]",
      "text/plain": [
       "<Figure size 1000x1000 with 2 Axes>"
      ]
     },
     "metadata": {},
     "output_type": "display_data"
    }
   ],
   "source": [
    "cmap = mcolors.LinearSegmentedColormap.from_list(\n",
    "    'red_white_green', ['#ffcccc', '#ffffff', '#ccffcc'], N=256\n",
    ")\n",
    "\n",
    "# Compute row sums and column sums\n",
    "row_sums = data_2y_clip.sum(axis=1, keepdims=True)  # shape (5, 1)\n",
    "col_sums = data_2y_clip.sum(axis=0, keepdims=True)  # shape (1, 5)\n",
    "total_sum = 0.\n",
    "\n",
    "# Create extended 6x6 matrix\n",
    "extended_data = np.block([\n",
    "    [data_2y_clip, row_sums],\n",
    "    [col_sums, total_sum]\n",
    "])\n",
    "\n",
    "# Plot\n",
    "fig, ax = plt.subplots(figsize=(10,10))\n",
    "cax = ax.matshow(extended_data, cmap=cmap)\n",
    "\n",
    "# Write the numbers inside each square\n",
    "for (i, j), val in np.ndenumerate(extended_data):\n",
    "    if i == j: continue\n",
    "    ax.text(j, i, f'{val:.2f}', va='center', ha='center', fontsize=10)\n",
    "\n",
    "# Hide axis ticks\n",
    "ax.set_xticks([])\n",
    "ax.set_yticks([])\n",
    "ax.set_xlabel('Target (substituted)')\n",
    "ax.set_ylabel('Base (clf trained on)')\n",
    "ax.grid(which='minor', color='black', linewidth=0.5)\n",
    "ax.tick_params(which='both', bottom=False, left=False, labelbottom=False, labelleft=False)\n",
    "\n",
    "# Optionally add a colorbar\n",
    "fig.colorbar(cax)\n",
    "\n",
    "plt.show()"
   ]
  },
  {
   "cell_type": "code",
   "execution_count": null,
   "id": "2ea32743863c02",
   "metadata": {
    "trusted": false
   },
   "outputs": [],
   "source": []
  }
 ],
 "metadata": {
  "kernelspec": {
   "display_name": "Python 3 (ipykernel)",
   "language": "python",
   "name": "python3"
  },
  "language_info": {
   "codemirror_mode": {
    "name": "ipython",
    "version": 2
   },
   "file_extension": ".py",
   "mimetype": "text/x-python",
   "name": "python",
   "nbconvert_exporter": "python",
   "pygments_lexer": "ipython2",
   "version": "2.7.6"
  }
 },
 "nbformat": 4,
 "nbformat_minor": 5
}
